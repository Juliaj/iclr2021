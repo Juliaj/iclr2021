{
 "cells": [
  {
   "cell_type": "code",
   "execution_count": 5,
   "metadata": {},
   "outputs": [],
   "source": [
    "from env.decom_lunar_lander import LunarLander as LunarLander_decom_reward\n",
    "import torch\n",
    "from torch import nn\n",
    "from torch.autograd import variable\n",
    "import time\n",
    "import os\n",
    "import shutil\n",
    "import numpy as np\n",
    "\n",
    "from tqdm import tqdm\n",
    "from random import uniform, randint, sample, random\n",
    "from collections import deque\n",
    "\n",
    "import io\n",
    "import base64\n",
    "from IPython.display import HTML\n",
    "\n",
    "from models.feature_q_model import feature_q_model\n",
    "from memory.memory import ReplayBuffer, ReplayBuffer_decom\n",
    "\n",
    "import matplotlib.pyplot as plt\n",
    "import matplotlib.image as mpimg\n",
    "import matplotlib as mpl\n",
    "from tensorboardX import SummaryWriter\n",
    "%matplotlib inline\n",
    "\n",
    "FloatTensor = torch.cuda.FloatTensor\n",
    "LongTensor = torch.cuda.LongTensor\n",
    "Writer = SummaryWriter(log_dir=\"CartPole_summary\")\n",
    "mpl.style.use('bmh')\n",
    "plt.rcParams[\"font.family\"] = \"Arial\"#\"Helvetica\"\n",
    "%config InlineBackend.figure_format = 'retina'"
   ]
  },
  {
   "cell_type": "code",
   "execution_count": 6,
   "metadata": {},
   "outputs": [],
   "source": [
    "\n",
    "ENV_NAME = 'LunarLander_ESP'\n",
    "env = LunarLander_decom_reward()\n",
    "\n",
    "ACTION_DICT = {\n",
    "    \"NOOP\": 0,\n",
    "    \"LEFT\":1,\n",
    "    \"MAIN\":2,\n",
    "    \"RIGHT\":3\n",
    "}\n",
    "action_name = {\n",
    "    0: 'Nop',\n",
    "    1: 'right engine',\n",
    "    2: 'main engine',\n",
    "    3: 'left engine'\n",
    "}\n",
    "FEATRUESNAME = [\"F1 Distance\", \"F2 Velocity\", \"F3 Tilt-angle\", \"F4 Right landing leg\", \n",
    "                \"F5 Left Landing Leg\", \"F6 Main Engine Uses\", \"F7 Side Engine Uses\", \"F8 Landing\"]"
   ]
  },
  {
   "cell_type": "code",
   "execution_count": 7,
   "metadata": {},
   "outputs": [],
   "source": [
    "result_floder = ENV_NAME\n",
    "result_floder_exp = \"{}/{}\".format(result_floder, ENV_NAME + \"_exp\")\n",
    "result_file = ENV_NAME + \"/results.txt\"\n",
    "result_file_GVFs_loss = ENV_NAME + \"/results_GVFs_loss.txt\"\n",
    "if not os.path.isdir(result_floder):\n",
    "    os.mkdir(result_floder)\n",
    "if not os.path.isdir(result_floder_exp):\n",
    "    os.mkdir(result_floder_exp)"
   ]
  },
  {
   "cell_type": "code",
   "execution_count": 8,
   "metadata": {},
   "outputs": [],
   "source": [
    "def MSX(vector):\n",
    "    vector = np.array(vector)\n",
    "    indeces = np.argsort(vector)[::-1]\n",
    "    negative_sum = sum(vector[vector < 0])\n",
    "    pos_sum = 0\n",
    "    MSX_idx = []\n",
    "    for idx in indeces:\n",
    "        pos_sum += vector[idx]\n",
    "        MSX_idx.append(idx)\n",
    "        if pos_sum > abs(negative_sum):\n",
    "            break\n",
    "    return MSX_idx, vector[MSX_idx]\n",
    "\n",
    "def print_Cartpole(state):\n",
    "    print(\"Cart Position: \", state[0], end = \"  \")\n",
    "    print(\"Cart Velocity: \", state[1])\n",
    "    print(\"Pole Angle: \", state[2], end = \"  \")\n",
    "    print(\"Pole Velocity At Tip: \", state[3])\n",
    "def plot_action_group(values, group, elements = [], title = 'decomposition values', y_label = \"\", q_values = None, IGX_action = None, exp_count = -1):\n",
    "    plt.clf()\n",
    "    x = np.arange(len(group))  # the label locations\n",
    "    fig, ax = plt.subplots()\n",
    "\n",
    "    # Add some text for labels, title and custom x-axis tick labels, etc.\n",
    "    plt.ylabel(y_label)\n",
    "    plt.title(title)\n",
    "\n",
    "    # set width of bar\n",
    "    length = len(values[0])\n",
    "    barWidth = 1 / (len(values) + 1)\n",
    "    x_labels_feature = [\"F{}\".format(x + 1) for x in range(len(values))]\n",
    "    for i in range(len(values)):\n",
    "        r = [j + barWidth * i for j in range(length)]\n",
    "        if len(elements) > 0:\n",
    "            plt.bar(r, values[i] , width=barWidth,  label=elements[i])\n",
    "#             for j, rr in enumerate(r):\n",
    "#                 plt.text(rr - barWidth / 4, values[i][j] if values[i][j] > 0 else 0, x_labels_feature[i], fontsize=5)\n",
    "        else:\n",
    "            plt.bar(r, values[i], width=barWidth)\n",
    "    \n",
    "    print(barWidth)\n",
    "    y_lim = plt.gca().get_ylim()\n",
    "    gap = (y_lim[1] - 0) / 30\n",
    "    for i in range(len(values)):\n",
    "        r = [j + barWidth * i for j in range(length)]\n",
    "        for j, rr in enumerate(r):\n",
    "            if values[i][j] != 0:\n",
    "                plt.text(rr - barWidth / 7, -gap * 1.5 if values[i][j] > 0 else gap, x_labels_feature[i], fontsize=8)\n",
    "    \n",
    "    r = [j + barWidth * (i + 1) for j in range(length)]\n",
    "    for rr in r[:-1]:\n",
    "        plt.axvline(x = rr, alpha = 0.5, linestyle='--')\n",
    "\n",
    "    # Add xticks on the middle of the group bars\n",
    "    plt.xlabel('action', fontweight='bold')\n",
    "    center_pos = (1 - barWidth * 2) / 2\n",
    "    \n",
    "    if IGX_action is not None:\n",
    "        group = [\"\\\"{}\\\"\\n greater than\".format(IGX_action)] + group\n",
    "        x_lim_left = plt.gca().get_xlim()[0]\n",
    "        pos = [x_lim_left] + [r + center_pos for r in range(length)]\n",
    "        plt.xticks(pos, group, ha='center')\n",
    "    else:\n",
    "        plt.xticks([r + center_pos for r in range(length)], group, ha='center')\n",
    "    \n",
    "    plt.gca().xaxis.grid(False)\n",
    "    plt.gca().yaxis.grid(True)\n",
    "    plt.gca().set_axisbelow(True)\n",
    "    if np.min(values) >= -gap * 3:\n",
    "        plt.gca().set_ylim(bottom = -gap * 3)\n",
    "    plt.ticklabel_format(style='sci', axis='y', scilimits=(0,0))\n",
    "    \n",
    "    y_lim = plt.gca().get_ylim()\n",
    "    np_values = np.array(values).T\n",
    "    txt_pos = y_lim[1] - (y_lim[1] - y_lim[0]) / 25\n",
    "    max_values = np_values.max(axis = 1)\n",
    "    sum_values = np_values.sum(axis = 1)\n",
    "    \n",
    "    for i, v in enumerate(max_values):\n",
    "        if q_values is None:\n",
    "            plt.gca().text(i + center_pos, txt_pos, \"sum ≈ {}\".format(np.round(sum_values[i], 4)), color='black', fontweight='ultralight', ha='center')\n",
    "        else:\n",
    "            plt.gca().text(i + center_pos, txt_pos, \"Q_v ≈ {}\".format(np.round(q_values[i], 4)), color='black', fontweight='ultralight', ha='center')\n",
    "\n",
    "    plt.savefig(\"{}/{}-{}.png\".format(result_floder_exp, title, exp_count))\n",
    "    \n",
    "def display_frames_as_gif(frames, video_name):\n",
    "    \"\"\"\n",
    "    Displays a list of frames as a gif, with controls\n",
    "    \"\"\"\n",
    "    Writer = animation.writers['ffmpeg']\n",
    "    writer = Writer(fps=15, metadata=dict(artist='Me'), bitrate=1800)\n",
    "    #plt.figure(figsize=(frames[0].shape[1] / 72.0, frames[0].shape[0] / 72.0), dpi = 72)\n",
    "    patch = plt.imshow(frames[0])\n",
    "    plt.axis('off')\n",
    "\n",
    "    def animate(i):\n",
    "        patch.set_data(frames[i])\n",
    "\n",
    "    anim = animation.FuncAnimation(plt.gcf(), animate, frames = len(frames), interval=50)\n",
    "#     display(display_animation(anim, default_mode='loop'))\n",
    "    anim.save(result_floder + '/' + video_name, writer=writer)"
   ]
  },
  {
   "cell_type": "code",
   "execution_count": 18,
   "metadata": {},
   "outputs": [],
   "source": [
    "def plot_IG_MSX(values, values_msx, group, elements = [], title = 'decomposition values', y_label = \"\", q_values = None, IGX_action = None, exp_count = -1):\n",
    "    plt.clf()\n",
    "    x = np.arange(len(group))  # the label locations\n",
    "    fig, ax = plt.subplots()\n",
    "\n",
    "    # Add some text for labels, title and custom x-axis tick labels, etc.\n",
    "    plt.ylabel(y_label)\n",
    "    plt.title(title)\n",
    "\n",
    "    # set width of bar\n",
    "    length = len(values[0])\n",
    "    barWidth = 1 / (len(values) + 1)\n",
    "    x_labels_feature = [\"F{}\".format(x + 1) for x in range(len(values))]\n",
    "    for i in range(len(values)):\n",
    "        r = [j + barWidth * i for j in range(length)]\n",
    "        \n",
    "        for j in range(len(values[i])):\n",
    "            if values_msx[i][j] != 0:\n",
    "                plt.bar(r[j], values[i][j], width=barWidth, hatch=\"////\",\n",
    "                        color = plt.rcParams['axes.prop_cycle'].by_key()['color'][i])\n",
    "            else:\n",
    "                plt.bar(r[j], values[i][j], width=barWidth,\n",
    "                        color = plt.rcParams['axes.prop_cycle'].by_key()['color'][i])\n",
    "    \n",
    "    y_lim = plt.gca().get_ylim()\n",
    "    gap = (y_lim[1] - 0) / 30\n",
    "    for i in range(len(values)):\n",
    "        r = [j + barWidth * i for j in range(length)]\n",
    "        for j, rr in enumerate(r):\n",
    "            if values[i][j] != 0:\n",
    "                plt.text(rr - barWidth / 4, -gap * 1.5 if values[i][j] > 0 else gap, x_labels_feature[i], fontsize=5)\n",
    "    \n",
    "    r = [j + barWidth * (i + 1) for j in range(length)]\n",
    "    for rr in r[:-1]:\n",
    "        plt.axvline(x = rr, alpha = 0.5, linestyle='--')\n",
    "\n",
    "    # Add xticks on the middle of the group bars\n",
    "    plt.xlabel('action', fontweight='bold')\n",
    "    center_pos = (1 - barWidth * 2) / 2\n",
    "    \n",
    "    plt.xticks([r + center_pos for r in range(length)], group, ha='center')\n",
    "    \n",
    "    plt.gca().xaxis.grid(False)\n",
    "    plt.gca().yaxis.grid(True)\n",
    "    plt.gca().set_axisbelow(True)\n",
    "    if np.min(values) >= -gap * 3:\n",
    "        plt.gca().set_ylim(bottom = -gap * 3)\n",
    "    plt.ticklabel_format(style='sci', axis='y', scilimits=(0,0))\n",
    "    \n",
    "    y_lim = plt.gca().get_ylim()\n",
    "    np_values = np.array(values).T\n",
    "    txt_pos = y_lim[1] - (y_lim[1] - y_lim[0]) / 25\n",
    "    max_values = np_values.max(axis = 1)\n",
    "    sum_values = np_values.sum(axis = 1)\n",
    "    \n",
    "    for i, v in enumerate(max_values):\n",
    "        if q_values is None:\n",
    "            plt.gca().text(i + center_pos, txt_pos, \"{} > {}\".format(IGX_action, group[i]), color='black', fontweight='ultralight', ha='center')\n",
    "        else:\n",
    "            plt.gca().text(i + center_pos, txt_pos, \"Q_v ≈ {}\".format(np.round(q_values[i], 4)), color='black', fontweight='ultralight', ha='center')\n",
    "\n",
    "    plt.savefig(\"{}/{}-{}.png\".format(result_floder_exp, title, exp_count))"
   ]
  },
  {
   "cell_type": "code",
   "execution_count": 9,
   "metadata": {},
   "outputs": [],
   "source": [
    "hyperparams_Lunarlander = {\n",
    "    'epsilon_decay_steps' : 200000, \n",
    "    'final_epsilon' : 0.01,\n",
    "    'batch_size' : 128, \n",
    "    'update_steps' : 3, \n",
    "    'memory_size' : 100000, \n",
    "    'beta' : 0.99, \n",
    "    'model_replace_freq' : 1,\n",
    "    'learning_rate' : 0.0001,\n",
    "    'privous_state' : 1\n",
    "}"
   ]
  },
  {
   "cell_type": "code",
   "execution_count": 16,
   "metadata": {},
   "outputs": [],
   "source": [
    "class ESP_agent(object):\n",
    "    def __init__(self, env, hyper_params, action_space = len(ACTION_DICT)):\n",
    "        \n",
    "        self.env = env\n",
    "        self.max_episode_steps = env._max_episode_steps\n",
    "        \n",
    "        \"\"\"\n",
    "            beta: The discounted factor of Q-value function\n",
    "            (epsilon): The explore or exploit policy epsilon. \n",
    "            initial_epsilon: When the 'steps' is 0, the epsilon is initial_epsilon, 1\n",
    "            final_epsilon: After the number of 'steps' reach 'epsilon_decay_steps', \n",
    "                The epsilon set to the 'final_epsilon' determinately.\n",
    "            epsilon_decay_steps: The epsilon will decrease linearly along with the steps from 0 to 'epsilon_decay_steps'.\n",
    "        \"\"\"\n",
    "        self.beta = hyper_params['beta']\n",
    "        self.initial_epsilon = 1\n",
    "        self.final_epsilon = hyper_params['final_epsilon']\n",
    "        self.epsilon_decay_steps = hyper_params['epsilon_decay_steps']\n",
    "\n",
    "        \"\"\"\n",
    "            episode: Record training episode\n",
    "            steps: Add 1 when predicting an action\n",
    "            learning: The trigger of agent learning. It is on while training agent. It is off while testing agent.\n",
    "            action_space: The action space of the current environment, e.g 2.\n",
    "        \"\"\"\n",
    "        self.episode = 0\n",
    "        self.steps = 0\n",
    "        self.best_reward = -1000\n",
    "        self.learning = True\n",
    "        self.action_space = action_space\n",
    "        self.privous_state = hyper_params['privous_state']\n",
    "\n",
    "        \"\"\"\n",
    "            input_len The input length of the neural network. It equals to the length of the state vector.\n",
    "            output_len: The output length of the neural network. It is equal to the action space.\n",
    "            eval_model: The model for predicting action for the agent.\n",
    "            target_model: The model for calculating Q-value of next_state to update 'eval_model'.\n",
    "        \"\"\"\n",
    "        state = env.reset()\n",
    "        self.reward_true_weight = env.reward_true_weight\n",
    "        input_len = len(state) * self.privous_state + action_space\n",
    "        output_len = 1\n",
    "        self.state_len = len(state)\n",
    "        self.decom_reward_len = len(env.reward_true_weight)\n",
    "        self.action_vector = self.get_action_vector()\n",
    "        self.eval_model = feature_q_model(input_len, self.decom_reward_len, output_len, learning_rate = hyper_params['learning_rate'])\n",
    "        self.target_model = feature_q_model(input_len, self.decom_reward_len, output_len)\n",
    "#         memory: Store and sample experience replay.\n",
    "        self.memory = ReplayBuffer_decom(hyper_params['memory_size'])\n",
    "        \n",
    "        \"\"\"\n",
    "            batch_size: Mini batch size for training model.\n",
    "            update_steps: The frequence of traning model\n",
    "            model_replace_freq: The frequence of replacing 'target_model' by 'eval_model'\n",
    "        \"\"\"\n",
    "        \n",
    "        self.batch_size = hyper_params['batch_size']\n",
    "        self.update_steps = hyper_params['update_steps']\n",
    "        self.model_replace_freq = hyper_params['model_replace_freq']\n",
    "        \n",
    "        self.q_value_gd = []\n",
    "        self.v_feature_input= []\n",
    "        self.loss_accumulate = deque(maxlen=1000)\n",
    "        self.optimizer_com = self.eval_model.optimizer_com\n",
    "        self.loss_fn = self.eval_model.loss_fn\n",
    "        \n",
    "        if os.path.isdir(\"LunarLander_summary/Lunarlander/GQF/\"):\n",
    "            shutil.rmtree(\"LunarLander_summary/Lunarlander/GQF/\")\n",
    "        if os.path.isdir(\"LunarLander_summary/Lunarlander/GQF Q_f LOSS\"):\n",
    "            shutil.rmtree(\"LunarLander_summary/Lunarlander/GQF Q_f LOSS\")\n",
    "        if os.path.isdir(\"LunarLander_summary/Lunarlander/GQF Q_r LOSS\"):\n",
    "            shutil.rmtree(\"LunarLander_summary/Lunarlander/GQF Q_r LOSS\")\n",
    "        self.exp_count = 0\n",
    "        \n",
    "    # Linear decrease function for epsilon\n",
    "    def linear_decrease(self, initial_value, final_value, curr_steps, final_decay_steps):\n",
    "        decay_rate = curr_steps / final_decay_steps\n",
    "        if decay_rate > 1:\n",
    "            decay_rate = 1\n",
    "        return initial_value - (initial_value - final_value) * decay_rate\n",
    "    \n",
    "    def get_action_vector(self):\n",
    "        action_vector = np.zeros((self.action_space, self.action_space))\n",
    "        for i in range(len(action_vector)):\n",
    "            action_vector[i, i] = 1\n",
    "        \n",
    "        return FloatTensor(action_vector)\n",
    "    \n",
    "    def concat_state_action(self, states, actions = None, is_full_action = False):\n",
    "        if is_full_action:\n",
    "            com_state = FloatTensor(states).repeat((1, self.action_space)).view((-1, self.state_len))\n",
    "            actions = self.action_vector.repeat((len(states), 1))\n",
    "        else:\n",
    "            com_state = states.clone()\n",
    "            actions = actions.clone()\n",
    "        state_action = torch.cat((com_state, actions), 1)\n",
    "        return state_action\n",
    "        \n",
    "    def explore_or_exploit_policy(self, state):\n",
    "        p = uniform(0, 1)\n",
    "        # Get decreased epsilon\n",
    "        epsilon = self.linear_decrease(self.initial_epsilon, \n",
    "                               self.final_epsilon,\n",
    "                               self.steps,\n",
    "                               self.epsilon_decay_steps)\n",
    "        \n",
    "        if p < epsilon:\n",
    "            #return action, None\n",
    "            return randint(0, self.action_space - 1)\n",
    "        else:\n",
    "            #return action, Q-value\n",
    "            return self.greedy_policy(state)[0]\n",
    "        \n",
    "    def greedy_policy(self, state):\n",
    "        state_ft = FloatTensor(state).view(-1, self.state_len)\n",
    "        state_action = self.concat_state_action(state_ft, is_full_action = True)\n",
    "        feature_vectors, q_values = self.eval_model.predict_batch(state_action)\n",
    "        best_action = q_values.max(0)[1]\n",
    "        return best_action.item(), feature_vectors[best_action.item()]\n",
    "    \n",
    "    def update_batch(self):\n",
    "#         print(self.update_steps)\n",
    "        if len(self.memory) < self.batch_size or self.steps % self.update_steps != 0:\n",
    "            return\n",
    "\n",
    "        batch = self.memory.sample(self.batch_size)\n",
    "\n",
    "        (states_actions, _, reward, next_states,\n",
    "         is_terminal, rewards_decom) = batch\n",
    "        \n",
    "#         states_actions = states_actions\n",
    "        next_states = FloatTensor(next_states)\n",
    "        terminal = FloatTensor([1 if t else 0 for t in is_terminal])\n",
    "        reward = FloatTensor(reward)\n",
    "        rewards_decom = FloatTensor(rewards_decom)\n",
    "        batch_index = torch.arange(self.batch_size,\n",
    "                                   dtype=torch.long)\n",
    "        \n",
    "        # Current Q Values\n",
    "        feature_vector, q_values = self.eval_model.predict_batch(states_actions)\n",
    "        \n",
    "        next_state_actions = self.concat_state_action(next_states, is_full_action = True)\n",
    "        feature_vector_next, q_next = self.target_model.predict_batch(next_state_actions)\n",
    "        \n",
    "        q_next = q_next.view((-1, self.action_space))\n",
    "        feature_vector_next = feature_vector_next.view((-1, self.action_space, self.decom_reward_len))\n",
    "        \n",
    "        q_max, idx = q_next.max(1)\n",
    "        feature_vector_max = feature_vector_next[batch_index, idx]\n",
    "        q_max = (1 - terminal) * q_max\n",
    "        q_target = reward + self.beta * q_max\n",
    "        q_target = q_target.unsqueeze(1)\n",
    "        feature_vector_max = (1 - terminal.view(-1, 1)) * feature_vector_max\n",
    "        feature_vector_target = rewards_decom + self.beta * feature_vector_max\n",
    "        \n",
    "        self.eval_model.fit(q_values, q_target, feature_vector, feature_vector_target)\n",
    "        \n",
    "    def learn_and_evaluate(self, training_episodes, test_interval):\n",
    "        test_number = training_episodes // test_interval\n",
    "        all_results = []\n",
    "        \n",
    "        for i in range(test_number):\n",
    "            # learn\n",
    "            self.learn(test_interval)\n",
    "            f = open(result_file, \"a+\")\n",
    "            f.write(str(\"\\n***{}\".format((i + 1) * test_interval) + \"\\n\"))\n",
    "            f.close()\n",
    "            f = open(result_file_GVFs_loss, \"a+\")\n",
    "            f.write(str(\"\\n***{}\".format((i + 1) * test_interval) + \"\\n\"))\n",
    "            f.close()\n",
    "            # evaluate\n",
    "            avg_reward = self.evaluate((i + 1) * test_interval)\n",
    "            all_results.append(avg_reward)\n",
    "            \n",
    "        return all_results\n",
    "    \n",
    "    def learn(self, test_interval):\n",
    "        for episode in tqdm(range(test_interval), desc=\"Training\"):\n",
    "            state = self.env.reset()\n",
    "            done = False\n",
    "            steps = 0\n",
    "            \n",
    "            while steps < self.max_episode_steps and not done:\n",
    "                steps += 1\n",
    "                self.steps += 1\n",
    "                \n",
    "                action = self.explore_or_exploit_policy(state)\n",
    "                next_state, reward, done, _, rewards_decom = self.env.step(action)\n",
    "                action_vector = np.zeros(self.action_space)\n",
    "                action_vector[action] = 1\n",
    "                self.memory.add(np.concatenate((state.copy(), action_vector.copy()), axis=0), -1, reward, next_state, done, rewards_decom)\n",
    "                self.update_batch()\n",
    "                \n",
    "                if self.steps % self.model_replace_freq == 0:\n",
    "                    self.target_model.replace_soft(self.eval_model)\n",
    "                state = next_state\n",
    "                \n",
    "    def evaluate(self, episode_num, trials = 100):\n",
    "        total_reward = 0\n",
    "        total_steps = 0\n",
    "        all_GVFs_loss = 0\n",
    "        for _ in tqdm(range(trials), desc=\"Evaluating\"):\n",
    "            state = self.env.reset()\n",
    "            done = False\n",
    "            steps = 0\n",
    "            all_features_gt = FloatTensor(np.zeros((self.max_episode_steps, self.decom_reward_len)))\n",
    "            all_features_predict = FloatTensor(np.zeros((self.max_episode_steps, self.decom_reward_len)))\n",
    "            discounted_para = FloatTensor(np.zeros((self.max_episode_steps, 1)))\n",
    "            while steps < self.max_episode_steps and not done:\n",
    "                steps += 1\n",
    "                action, fv = self.greedy_policy(state)\n",
    "                state, reward, done, _, rewards_decom = self.env.step(action)\n",
    "                total_reward += reward\n",
    "                \n",
    "                all_features_gt[:steps] += (FloatTensor(rewards_decom) * (self.beta ** discounted_para))[:steps]\n",
    "                all_features_predict[steps - 1] = fv\n",
    "                discounted_para[:steps] += 1\n",
    "                \n",
    "            total_steps += steps\n",
    "            with torch.no_grad():\n",
    "                all_GVFs_loss += self.eval_model.loss_fn(all_features_gt[:steps], all_features_predict[:steps]).item()\n",
    "                \n",
    "        avg_reward = total_reward / trials\n",
    "        avg_GVFs_loss = all_GVFs_loss / trials\n",
    "        print(\"avg score: {}\".format(avg_reward))\n",
    "        print(\"avg GVF loss: {}\".format(avg_GVFs_loss))\n",
    "        f = open(result_file, \"a+\")\n",
    "        f.write(str(avg_reward) + \"\\n\")\n",
    "        f.close()\n",
    "        f = open(result_file_GVFs_loss, \"a+\")\n",
    "        f.write(str(avg_GVFs_loss) + \"\\n\")\n",
    "        f.close()\n",
    "        if avg_reward >= self.best_reward:\n",
    "            self.best_reward = avg_reward\n",
    "            self.save_model()\n",
    "            print(\"save\")\n",
    "        self.best_reward *= 0.99\n",
    "        Writer.add_scalars(main_tag='Lunarlander/DQN',\n",
    "                                tag_scalar_dict = {'GQF':avg_reward}, \n",
    "#                                 scalar_value=,\n",
    "                                global_step=episode_num)\n",
    "        return avg_reward\n",
    "\n",
    "#################################################################################################\n",
    "#################################################################################################  \n",
    "############################################### MSX #############################################  \n",
    "#################################################################################################  \n",
    "#################################################################################################  \n",
    "    def explore_or_exploit_policy_eval(self, state, epsilon = 0):\n",
    "        p = uniform(0, 1)\n",
    "        if p < epsilon:\n",
    "            #return action, None\n",
    "            return randint(0, self.action_space - 1)\n",
    "        else:\n",
    "            #return action, Q-value\n",
    "            return self.greedy_policy(state)[0]\n",
    "\n",
    "    def evaluate_combination_action_large_diff(self, example_num = 10, epsilon = 0, states = []):\n",
    "        self.eval_model.eval_mode()\n",
    "        loss_fn = nn.MSELoss()\n",
    "        \n",
    "        all_states = []\n",
    "        all_frames = []\n",
    "        state = self.env.reset()\n",
    "        done = False\n",
    "        steps = 0\n",
    "        \n",
    "        state_len = len(state)\n",
    "        \n",
    "#         q_vs = []\n",
    "        while steps < self.max_episode_steps and not done:\n",
    "            steps += 1\n",
    "            self.steps += 1\n",
    "\n",
    "            action = self.explore_or_exploit_policy_eval(state, epsilon = epsilon)\n",
    "#             q_vs.append(q_v.item())\n",
    "            state, reward, done, _, _ = self.env.step(action)\n",
    "            \n",
    "            all_frames.append(env.render(mode='rgb_array'))\n",
    "            \n",
    "            all_states.append(state.copy())\n",
    "        for s in states:\n",
    "            all_states.append(s)\n",
    "            all_frames.append(np.zeros_like(all_frames[0]))\n",
    "        examples = FloatTensor(all_states)\n",
    "        eval_frames = np.array(all_frames)\n",
    "\n",
    "        com_examples = self.concat_state_action(examples, is_full_action = True)\n",
    "        v_features, q_value = self.eval_model.predict_batch(com_examples)\n",
    "        q_value = q_value.view((-1, self.action_space))\n",
    "        v_features = v_features.view((-1, self.action_space, self.decom_reward_len))\n",
    "        \n",
    "        q_best_values, predict_best_action = q_value.max(1)\n",
    "        q_worst_values, predict_worst_action = q_value.min(1)\n",
    "        \n",
    "        q_diff = q_best_values - q_worst_values\n",
    "        \n",
    "        q_diff_idx = q_diff.argsort(descending = True)[:example_num]\n",
    "        if len(states) > 0:\n",
    "            q_diff_idx = torch.cat((q_diff_idx, LongTensor(list(range(len(all_frames) - len(states), len(all_frames))))))\n",
    "        q_diff_idx_np = np.array(q_diff_idx.tolist())\n",
    "        q_diff = q_diff[q_diff_idx]\n",
    "        print(\"diff example length: {}\".format(len(q_diff)))\n",
    "        q_value = q_value[q_diff_idx]\n",
    "        v_features = v_features[q_diff_idx]\n",
    "        q_best_values, predict_best_action = q_value.max(1)\n",
    "        q_worst_values, predict_worst_action = q_value.min(1)\n",
    "        \n",
    "        eval_frames = eval_frames[q_diff_idx_np]\n",
    "        examples = examples[q_diff_idx_np]\n",
    "        \n",
    "        total_acc_1 = 0\n",
    "        total_acc_2 = 0\n",
    "    \n",
    "        print(\"diff action value: {}\".format(q_diff))\n",
    "        count = 0\n",
    "        for i, vf in enumerate(v_features):\n",
    "            p_a = predict_best_action[i].item()\n",
    "            sub_actions = q_value[i].argsort()[:-1]\n",
    "    \n",
    "            print(\"=========================================================================\")\n",
    "            \n",
    "#             print(\"true target action: {}\\n true baseline action: {}\".format(action_name[t_a], action_name[true_sub_action]))\n",
    "            show_image = True\n",
    "            print_Cartpole(examples[i].tolist())\n",
    "        \n",
    "            IGs = []\n",
    "            ans = []\n",
    "            MSX_values = []\n",
    "            baseline_values = []\n",
    "            GVFs = []\n",
    "            q_print_values = []\n",
    "            GVFs.append(v_features[i][p_a].tolist())\n",
    "            ans.append(action_name[p_a])\n",
    "            q_print_values.append(q_value[i][p_a].item())\n",
    "            print(\"target action {}, value: {}\".format(action_name[p_a], q_best_values[i]))\n",
    "            for sb in sub_actions.tolist()[::-1]:\n",
    "#                 print(\"=========================================================================\")\n",
    "                sub_action = sb\n",
    "#                 print(\"target action: {}\\n baseline action: {}\".format(action_name[p_a], action_name[sub_action]))\n",
    "                ans.append(action_name[sub_action])\n",
    "                GVFs.append(v_features[i][sub_action].tolist())\n",
    "                msx_idx, msx_value, intergated_grad = self.differenc_vector_2(self.eval_model.q_model, \n",
    "                                      (v_features[i][p_a], eval_frames[i], q_value[i][p_a])\n",
    "                                      ,(v_features[i][sub_action], eval_frames[i], q_value[i][sub_action]), False, iteration = 30, show_image = show_image)\n",
    "                ig = np.array(intergated_grad[0].tolist())\n",
    "                IGs.append(ig)\n",
    "                baseline_values.append(q_value[i][sub_action].item())\n",
    "                q_print_values.append(q_value[i][sub_action].item())\n",
    "                orginal_pos_MSX = np.zeros(len(ig))\n",
    "                orginal_pos_MSX[msx_idx] = ig[msx_idx]\n",
    "                MSX_values.append(orginal_pos_MSX)\n",
    "                if show_image:\n",
    "                    show_image = False\n",
    "                    \n",
    "            for v, k in zip(baseline_values, ans):\n",
    "                print(\"baseline action {}, value: {}\".format(k, v))\n",
    "            \n",
    "            plot_action_group(np.array(GVFs).T, ans, FEATRUESNAME, title = \"GVFs\", y_label = \"GVFs Values\", q_values = q_print_values, exp_count = self.exp_count)\n",
    "            plot_IG_MSX(np.array(IGs).T, np.array(MSX_values).T, ans[1:], FEATRUESNAME, title = \"IG & MSX\", y_label = \"IGX\", IGX_action = ans[0], exp_count = self.exp_count)\n",
    "        \n",
    "    def differenc_vector_2(self, model, target, baseline, verbose = True, iteration = 100, show_image = True):\n",
    "        t_feature, t_frame, t_value = target\n",
    "        b_feature, b_frame, b_value = baseline\n",
    "        \n",
    "        if verbose or show_image:\n",
    "            plt.clf()\n",
    "            print(\"target value: {}\".format(t_value.item()))\n",
    "            print(\"baseline value: {}\".format(b_value.item()))\n",
    "            self.exp_count += 1\n",
    "            plt.imshow(t_frame)\n",
    "            plt.axis('off')\n",
    "            plt.savefig(\"{}/game_state-{}.png\".format(result_floder_exp, self.exp_count))\n",
    "        (msx_idx, msx_value), intergated_grad = self.intergated_gradients(model, t_feature, baseline = b_feature, verbose = verbose, iteration = iteration)\n",
    "        return msx_idx, msx_value, intergated_grad\n",
    "    def intergated_gradients(self, model, x, iteration = 100, baseline = None, verbose = True):\n",
    "        y_baseline = model(baseline).item()\n",
    "        x = x.view(1, -1)\n",
    "        x.size()[1]\n",
    "        if baseline is None:\n",
    "            baseline = torch.zeros_like(x)\n",
    "        elif verbose:\n",
    "            print(\"baseline: {}\".format(baseline))\n",
    "        \n",
    "        intergated_grad = torch.zeros_like(x)\n",
    "    \n",
    "        for i in range(iteration):\n",
    "            new_input = baseline + ((i + 1) / iteration * (x - baseline))\n",
    "            new_input = new_input.clone().detach().requires_grad_(True)\n",
    "    #         print(new_input)\n",
    "\n",
    "            y = model(new_input)\n",
    "            loss = abs(y_baseline - y)\n",
    "            self.optimizer_com.zero_grad()\n",
    "            loss.backward()\n",
    "            intergated_grad += (new_input.grad) / iteration\n",
    "            \n",
    "        intergated_grad *= x - baseline\n",
    "        \n",
    "        print(\"target GVFs: {}\".format(x.tolist()))\n",
    "        print(\"baseline GVFs: {}\".format(baseline.tolist()))\n",
    "        MSX_idx, MSX_values = MSX(intergated_grad.tolist()[0])\n",
    "        if verbose:\n",
    "            msx_vector = np.zeros(self.decom_reward_len)\n",
    "            msx_vector[MSX_idx] = MSX_values\n",
    "            plot_msx_plus(msx_vector, tittle = 'MSX+')\n",
    "    \n",
    "        return (MSX_idx, MSX_values), intergated_grad\n",
    "    \n",
    "    def generate_video(self, video_name):\n",
    "        self.eval_model.eval_mode()\n",
    "        loss_fn = nn.MSELoss()\n",
    "        total_reward = 0\n",
    "        all_frames = []\n",
    "        state = self.env.reset()\n",
    "        done = False\n",
    "        steps = 0\n",
    "        \n",
    "        while steps < self.max_episode_steps and not done:\n",
    "            steps += 1\n",
    "\n",
    "            action, q_v, feature_vector = self.greedy_policy(state)\n",
    "            state, reward, done, _ = self.env.step(action)\n",
    "            total_reward += reward\n",
    "            all_frames.append(env.render(mode='rgb_array'))\n",
    "        print(total_reward)\n",
    "        display_frames_as_gif(all_frames, video_name)\n",
    "        print(\"video generted\")\n",
    "\n",
    "    def save_model(self, path = None, name = \"best_model.pt\"):\n",
    "        if path is None:\n",
    "            path = result_floder\n",
    "        self.eval_model.save(\"{}/{}\".format(path, name))\n",
    "        \n",
    "    # load model\n",
    "    def load_model(self, path = \"\", name = \"best_model.pt\"):\n",
    "        if path is None:\n",
    "            path = result_floder\n",
    "        self.eval_model.load(\"{}/{}\".format(path, name))"
   ]
  },
  {
   "cell_type": "markdown",
   "metadata": {},
   "source": [
    "## Train Agent"
   ]
  },
  {
   "cell_type": "code",
   "execution_count": 23,
   "metadata": {},
   "outputs": [
    {
     "name": "stderr",
     "output_type": "stream",
     "text": [
      "Training: 100%|██████████| 1/1 [00:00<00:00,  9.56it/s]\n",
      "Evaluating:   0%|          | 0/100 [00:00<?, ?it/s]"
     ]
    },
    {
     "name": "stdout",
     "output_type": "stream",
     "text": [
      "*************0*************\n",
      "Using GPU\n",
      "Using GPU\n"
     ]
    },
    {
     "name": "stderr",
     "output_type": "stream",
     "text": [
      "Evaluating: 100%|██████████| 100/100 [00:05<00:00, 17.29it/s]\n",
      "Training: 100%|██████████| 1/1 [00:00<00:00,  6.75it/s]\n",
      "Evaluating:   0%|          | 0/100 [00:00<?, ?it/s]"
     ]
    },
    {
     "name": "stdout",
     "output_type": "stream",
     "text": [
      "avg score: -467.76467760885504\n",
      "avg GVF loss: 0.8125906953215599\n",
      "save\n",
      "*************1*************\n",
      "Using GPU\n",
      "Using GPU\n"
     ]
    },
    {
     "name": "stderr",
     "output_type": "stream",
     "text": [
      "Evaluating: 100%|██████████| 100/100 [00:05<00:00, 18.26it/s]\n",
      "Training: 100%|██████████| 1/1 [00:00<00:00, 12.49it/s]\n",
      "Evaluating:   0%|          | 0/100 [00:00<?, ?it/s]"
     ]
    },
    {
     "name": "stdout",
     "output_type": "stream",
     "text": [
      "avg score: -520.776397956336\n",
      "avg GVF loss: 0.7738027387857437\n",
      "save\n",
      "*************2*************\n",
      "Using GPU\n",
      "Using GPU\n"
     ]
    },
    {
     "name": "stderr",
     "output_type": "stream",
     "text": [
      "Evaluating: 100%|██████████| 100/100 [00:11<00:00,  8.79it/s]\n",
      "Training: 100%|██████████| 1/1 [00:00<00:00,  8.07it/s]\n",
      "Evaluating:   0%|          | 0/100 [00:00<?, ?it/s]"
     ]
    },
    {
     "name": "stdout",
     "output_type": "stream",
     "text": [
      "avg score: -232.1571990997025\n",
      "avg GVF loss: 0.20456642724573612\n",
      "save\n",
      "*************3*************\n",
      "Using GPU\n",
      "Using GPU\n"
     ]
    },
    {
     "name": "stderr",
     "output_type": "stream",
     "text": [
      "Evaluating: 100%|██████████| 100/100 [00:07<00:00, 12.69it/s]\n",
      "Training: 100%|██████████| 1/1 [00:00<00:00, 14.52it/s]\n",
      "Evaluating:   2%|▏         | 2/100 [00:00<00:05, 17.02it/s]"
     ]
    },
    {
     "name": "stdout",
     "output_type": "stream",
     "text": [
      "avg score: -351.7423305052292\n",
      "avg GVF loss: 0.304332318007946\n",
      "save\n",
      "*************4*************\n",
      "Using GPU\n",
      "Using GPU\n"
     ]
    },
    {
     "name": "stderr",
     "output_type": "stream",
     "text": [
      "Evaluating: 100%|██████████| 100/100 [00:05<00:00, 18.44it/s]\n",
      "Training: 100%|██████████| 1/1 [00:00<00:00,  9.77it/s]\n",
      "Evaluating:   0%|          | 0/100 [00:00<?, ?it/s]"
     ]
    },
    {
     "name": "stdout",
     "output_type": "stream",
     "text": [
      "avg score: -131.80959255570903\n",
      "avg GVF loss: 0.24804360240697862\n",
      "save\n",
      "*************5*************\n",
      "Using GPU\n",
      "Using GPU\n"
     ]
    },
    {
     "name": "stderr",
     "output_type": "stream",
     "text": [
      "Evaluating: 100%|██████████| 100/100 [00:05<00:00, 17.42it/s]\n",
      "Training: 100%|██████████| 1/1 [00:00<00:00, 16.92it/s]\n",
      "Evaluating:   0%|          | 0/100 [00:00<?, ?it/s]"
     ]
    },
    {
     "name": "stdout",
     "output_type": "stream",
     "text": [
      "avg score: -119.63983266611609\n",
      "avg GVF loss: 0.2531967306882143\n",
      "save\n",
      "*************6*************\n",
      "Using GPU\n",
      "Using GPU\n"
     ]
    },
    {
     "name": "stderr",
     "output_type": "stream",
     "text": [
      "Evaluating: 100%|██████████| 100/100 [00:09<00:00, 10.90it/s]\n",
      "Training: 100%|██████████| 1/1 [00:00<00:00,  9.48it/s]\n",
      "Evaluating:   0%|          | 0/100 [00:00<?, ?it/s]"
     ]
    },
    {
     "name": "stdout",
     "output_type": "stream",
     "text": [
      "avg score: -867.0144351084491\n",
      "avg GVF loss: 1.902255216985941\n",
      "save\n",
      "*************7*************\n",
      "Using GPU\n",
      "Using GPU\n"
     ]
    },
    {
     "name": "stderr",
     "output_type": "stream",
     "text": [
      "Evaluating: 100%|██████████| 100/100 [00:05<00:00, 18.19it/s]\n",
      "Training: 100%|██████████| 1/1 [00:00<00:00,  9.37it/s]\n",
      "Evaluating:   0%|          | 0/100 [00:00<?, ?it/s]"
     ]
    },
    {
     "name": "stdout",
     "output_type": "stream",
     "text": [
      "avg score: -538.7255830605329\n",
      "avg GVF loss: 0.8320143651962281\n",
      "save\n",
      "*************8*************\n",
      "Using GPU\n",
      "Using GPU\n"
     ]
    },
    {
     "name": "stderr",
     "output_type": "stream",
     "text": [
      "Evaluating: 100%|██████████| 100/100 [00:08<00:00, 11.70it/s]\n",
      "Training: 100%|██████████| 1/1 [00:00<00:00, 11.17it/s]\n",
      "Evaluating:   0%|          | 0/100 [00:00<?, ?it/s]"
     ]
    },
    {
     "name": "stdout",
     "output_type": "stream",
     "text": [
      "avg score: -306.30542055085397\n",
      "avg GVF loss: 0.3470861122012138\n",
      "save\n",
      "*************9*************\n",
      "Using GPU\n",
      "Using GPU\n"
     ]
    },
    {
     "name": "stderr",
     "output_type": "stream",
     "text": [
      "Evaluating: 100%|██████████| 100/100 [00:11<00:00,  8.86it/s]"
     ]
    },
    {
     "name": "stdout",
     "output_type": "stream",
     "text": [
      "avg score: -792.1922465553308\n",
      "avg GVF loss: 0.8166571001708508\n",
      "save\n"
     ]
    },
    {
     "name": "stderr",
     "output_type": "stream",
     "text": [
      "\n"
     ]
    }
   ],
   "source": [
    "training_episodes, test_interval = 10000, 200\n",
    "for i in range(10):\n",
    "    print(\"*************{}*************\".format(i))\n",
    "    agent = ESP_agent(env, hyperparams_Lunarlander)\n",
    "    result = agent.learn_and_evaluate(training_episodes, test_interval)\n",
    "    "
   ]
  },
  {
   "cell_type": "code",
   "execution_count": 22,
   "metadata": {},
   "outputs": [
    {
     "name": "stdout",
     "output_type": "stream",
     "text": [
      "Using GPU\n",
      "Using GPU\n",
      "diff example length: 5\n",
      "diff action value: tensor([75.5785, 35.7887, 33.3691, 32.1456, 31.3678], device='cuda:0',\n",
      "       grad_fn=<IndexBackward>)\n",
      "=========================================================================\n",
      "Cart Position:  -0.08127546310424805  Cart Velocity:  0.0614144429564476\n",
      "Pole Angle:  -0.0720595270395279  Pole Velocity At Tip:  -0.5613115429878235\n",
      "target action main engine, value: 120.38631439208984\n",
      "target value: 120.38631439208984\n",
      "baseline value: 104.25971984863281\n",
      "target GVFs: [[0.006120526231825352, -0.4026716947555542, -0.5928359627723694, 0.5927577018737793, -0.3891296982765198, 0.233500674366951, 0.18705502152442932, 0.27623414993286133]]\n",
      "baseline GVFs: [0.01819036155939102, -0.3553779721260071, -0.5804427266120911, 0.6032930612564087, -0.35235029458999634, 0.22107890248298645, 0.2150578498840332, 0.15096738934516907]\n",
      "target GVFs: [[0.006120526231825352, -0.4026716947555542, -0.5928359627723694, 0.5927577018737793, -0.3891296982765198, 0.233500674366951, 0.18705502152442932, 0.27623414993286133]]\n",
      "baseline GVFs: [0.022786982357501984, -0.3416402339935303, -0.5562114119529724, 0.6014419794082642, -0.26871997117996216, 0.22201456129550934, 0.19472350180149078, 0.11214524507522583]\n",
      "target GVFs: [[0.006120526231825352, -0.4026716947555542, -0.5928359627723694, 0.5927577018737793, -0.3891296982765198, 0.233500674366951, 0.18705502152442932, 0.27623414993286133]]\n",
      "baseline GVFs: [0.049440063536167145, -0.2698545455932617, -0.4356043040752411, 0.5715351104736328, -0.2636503279209137, 0.17991353571414948, 0.17292048037052155, -0.09635888040065765]\n",
      "baseline action main engine, value: 104.25971984863281\n",
      "baseline action left engine, value: 97.23545837402344\n",
      "baseline action Nop, value: 44.807830810546875\n",
      "0.1111111111111111\n",
      "=========================================================================\n",
      "Cart Position:  -0.23836001753807068  Cart Velocity:  -0.012313475832343102\n",
      "Pole Angle:  -0.2482163906097412  Pole Velocity At Tip:  -0.16947539150714874\n",
      "target action main engine, value: 43.7557258605957\n",
      "target value: 43.7557258605957\n",
      "baseline value: 35.79540252685547\n",
      "target GVFs: [[0.03001299872994423, -0.22508423030376434, -0.0033869370818138123, -0.1136551946401596, -0.22608759999275208, 0.10405217111110687, 0.2021036446094513, 0.3249448239803314]]\n",
      "baseline GVFs: [0.04222574830055237, -0.200609490275383, 0.014310844242572784, -0.07523785531520844, -0.21468812227249146, 0.07502073049545288, 0.16636529564857483, 0.2993684411048889]\n",
      "target GVFs: [[0.03001299872994423, -0.22508423030376434, -0.0033869370818138123, -0.1136551946401596, -0.22608759999275208, 0.10405217111110687, 0.2021036446094513, 0.3249448239803314]]\n",
      "baseline GVFs: [0.026056379079818726, -0.17926423251628876, 0.011690519750118256, -0.10768027603626251, -0.2023150622844696, 0.08799313008785248, 0.17728757858276367, 0.21630549430847168]\n",
      "target GVFs: [[0.03001299872994423, -0.22508423030376434, -0.0033869370818138123, -0.1136551946401596, -0.22608759999275208, 0.10405217111110687, 0.2021036446094513, 0.3249448239803314]]\n",
      "baseline GVFs: [0.039827510714530945, -0.17859292030334473, 0.016211621463298798, -0.11477531492710114, -0.21361637115478516, 0.10414275527000427, 0.1882340908050537, 0.14424729347229004]\n",
      "baseline action main engine, value: 35.79540252685547\n",
      "baseline action Nop, value: 21.912046432495117\n",
      "baseline action left engine, value: 7.967008590698242\n",
      "0.1111111111111111\n",
      "=========================================================================\n",
      "Cart Position:  -0.08062563091516495  Cart Velocity:  0.07394793629646301\n",
      "Pole Angle:  -0.029979348182678223  Pole Velocity At Tip:  -0.5549432039260864\n",
      "target action main engine, value: 118.52242279052734\n",
      "target value: 118.52242279052734\n",
      "baseline value: 118.21977233886719\n",
      "target GVFs: [[-0.04625726491212845, -0.34785065054893494, -0.5248734354972839, 0.5316280722618103, 0.6065350770950317, 0.25612571835517883, 0.2030850201845169, 0.23808026313781738]]\n",
      "baseline GVFs: [-0.031119562685489655, -0.33795690536499023, -0.5428862571716309, 0.5708529949188232, 0.6166709065437317, 0.2421310395002365, 0.18065723776817322, 0.21851935982704163]\n",
      "target GVFs: [[-0.04625726491212845, -0.34785065054893494, -0.5248734354972839, 0.5316280722618103, 0.6065350770950317, 0.25612571835517883, 0.2030850201845169, 0.23808026313781738]]\n",
      "baseline GVFs: [-0.03152026981115341, -0.30161160230636597, -0.48614802956581116, 0.5445380210876465, 0.6348210573196411, 0.22748731076717377, 0.18023206293582916, 0.16063374280929565]\n",
      "target GVFs: [[-0.04625726491212845, -0.34785065054893494, -0.5248734354972839, 0.5316280722618103, 0.6065350770950317, 0.25612571835517883, 0.2030850201845169, 0.23808026313781738]]\n",
      "baseline GVFs: [-0.0294480100274086, -0.28302207589149475, -0.4208415448665619, 0.5475295782089233, 0.6039595603942871, 0.19868279993534088, 0.17240551114082336, 0.06723286956548691]\n",
      "baseline action main engine, value: 118.21977233886719\n",
      "baseline action left engine, value: 103.93346405029297\n",
      "baseline action Nop, value: 85.15330505371094\n",
      "0.1111111111111111\n",
      "=========================================================================\n",
      "Cart Position:  -0.1251538246870041  Cart Velocity:  0.006278667598962784\n",
      "Pole Angle:  -0.3692109286785126  Pole Velocity At Tip:  -0.06501534581184387\n",
      "target action main engine, value: 77.49540710449219\n",
      "target value: 77.49540710449219\n",
      "baseline value: 77.3550796508789\n",
      "target GVFs: [[0.038595087826251984, -0.32144272327423096, -0.026825636625289917, -0.2144901007413864, 0.6863986849784851, 0.12570884823799133, 0.23249362409114838, 0.4857533574104309]]\n",
      "baseline GVFs: [0.026356719434261322, -0.33293479681015015, -0.031917594373226166, -0.22553037106990814, 0.700491189956665, 0.12258705496788025, 0.23712654411792755, 0.4501154124736786]\n",
      "target GVFs: [[0.038595087826251984, -0.32144272327423096, -0.026825636625289917, -0.2144901007413864, 0.6863986849784851, 0.12570884823799133, 0.23249362409114838, 0.4857533574104309]]\n",
      "baseline GVFs: [0.0305742546916008, -0.3121856451034546, -0.02591213583946228, -0.23395784199237823, 0.6660795211791992, 0.13467590510845184, 0.240104541182518, 0.3676728308200836]\n",
      "target GVFs: [[0.038595087826251984, -0.32144272327423096, -0.026825636625289917, -0.2144901007413864, 0.6863986849784851, 0.12570884823799133, 0.23249362409114838, 0.4857533574104309]]\n",
      "baseline GVFs: [0.05190097540616989, -0.2885543406009674, -0.0401221439242363, -0.24418579041957855, 0.5373845100402832, 0.1403590440750122, 0.1822822093963623, 0.23662078380584717]\n",
      "baseline action main engine, value: 77.3550796508789\n",
      "baseline action Nop, value: 65.6366958618164\n",
      "baseline action right engine, value: 45.34980392456055\n",
      "0.1111111111111111\n",
      "=========================================================================\n",
      "Cart Position:  -0.08040132373571396  Cart Velocity:  0.08633387833833694\n",
      "Pole Angle:  0.025311851873993874  Pole Velocity At Tip:  -0.5710498094558716\n",
      "target action main engine, value: 125.9283218383789\n",
      "target value: 125.9283218383789\n",
      "baseline value: 122.22525787353516\n",
      "target GVFs: [[-0.06020388752222061, -0.3727439045906067, -0.5396175980567932, 0.5565600991249084, 0.6217281222343445, 0.25732243061065674, 0.198570117354393, 0.2688293755054474]]\n",
      "baseline GVFs: [-0.042772166430950165, -0.35153788328170776, -0.547016441822052, 0.5832228064537048, 0.6292094588279724, 0.2387813776731491, 0.17525117099285126, 0.23033177852630615]\n",
      "target GVFs: [[-0.06020388752222061, -0.3727439045906067, -0.5396175980567932, 0.5565600991249084, 0.6217281222343445, 0.25732243061065674, 0.198570117354393, 0.2688293755054474]]\n",
      "baseline GVFs: [-0.04130113869905472, -0.3226379156112671, -0.5062272548675537, 0.5654840469360352, 0.6415852308273315, 0.22821569442749023, 0.17743270099163055, 0.18621447682380676]\n",
      "target GVFs: [[-0.06020388752222061, -0.3727439045906067, -0.5396175980567932, 0.5565600991249084, 0.6217281222343445, 0.25732243061065674, 0.198570117354393, 0.2688293755054474]]\n",
      "baseline GVFs: [-0.04440069943666458, -0.3026583194732666, -0.4418947994709015, 0.5719107389450073, 0.6183648109436035, 0.19978594779968262, 0.1682203710079193, 0.09349025785923004]\n",
      "baseline action main engine, value: 122.22525787353516\n",
      "baseline action left engine, value: 111.818603515625\n",
      "baseline action Nop, value: 94.56049346923828\n",
      "0.1111111111111111\n"
     ]
    },
    {
     "ename": "KeyboardInterrupt",
     "evalue": "",
     "output_type": "error",
     "traceback": [
      "\u001b[0;31m---------------------------------------------------------------------------\u001b[0m",
      "\u001b[0;31mKeyboardInterrupt\u001b[0m                         Traceback (most recent call last)",
      "\u001b[0;32m<ipython-input-22-da43260becdc>\u001b[0m in \u001b[0;36m<module>\u001b[0;34m\u001b[0m\n\u001b[1;32m      2\u001b[0m \u001b[0magent\u001b[0m \u001b[0;34m=\u001b[0m \u001b[0mESP_agent\u001b[0m\u001b[0;34m(\u001b[0m\u001b[0menv\u001b[0m\u001b[0;34m,\u001b[0m \u001b[0mhyperparams_Lunarlander\u001b[0m\u001b[0;34m)\u001b[0m\u001b[0;34m\u001b[0m\u001b[0;34m\u001b[0m\u001b[0m\n\u001b[1;32m      3\u001b[0m \u001b[0magent\u001b[0m\u001b[0;34m.\u001b[0m\u001b[0mload_model\u001b[0m\u001b[0;34m(\u001b[0m\u001b[0mpath\u001b[0m \u001b[0;34m=\u001b[0m \u001b[0mbest_ckpt_path\u001b[0m\u001b[0;34m)\u001b[0m\u001b[0;34m\u001b[0m\u001b[0;34m\u001b[0m\u001b[0m\n\u001b[0;32m----> 4\u001b[0;31m \u001b[0magent\u001b[0m\u001b[0;34m.\u001b[0m\u001b[0mevaluate_combination_action_large_diff\u001b[0m\u001b[0;34m(\u001b[0m\u001b[0mexample_num\u001b[0m \u001b[0;34m=\u001b[0m \u001b[0;36m5\u001b[0m\u001b[0;34m,\u001b[0m \u001b[0mepsilon\u001b[0m \u001b[0;34m=\u001b[0m \u001b[0;36m0.1\u001b[0m\u001b[0;34m)\u001b[0m\u001b[0;34m\u001b[0m\u001b[0;34m\u001b[0m\u001b[0m\n\u001b[0m",
      "\u001b[0;32m<ipython-input-16-116debd83402>\u001b[0m in \u001b[0;36mevaluate_combination_action_large_diff\u001b[0;34m(self, example_num, epsilon, states)\u001b[0m\n\u001b[1;32m    357\u001b[0m                 \u001b[0mprint\u001b[0m\u001b[0;34m(\u001b[0m\u001b[0;34m\"baseline action {}, value: {}\"\u001b[0m\u001b[0;34m.\u001b[0m\u001b[0mformat\u001b[0m\u001b[0;34m(\u001b[0m\u001b[0mk\u001b[0m\u001b[0;34m,\u001b[0m \u001b[0mv\u001b[0m\u001b[0;34m)\u001b[0m\u001b[0;34m)\u001b[0m\u001b[0;34m\u001b[0m\u001b[0;34m\u001b[0m\u001b[0m\n\u001b[1;32m    358\u001b[0m \u001b[0;34m\u001b[0m\u001b[0m\n\u001b[0;32m--> 359\u001b[0;31m             \u001b[0mplot_action_group\u001b[0m\u001b[0;34m(\u001b[0m\u001b[0mnp\u001b[0m\u001b[0;34m.\u001b[0m\u001b[0marray\u001b[0m\u001b[0;34m(\u001b[0m\u001b[0mGVFs\u001b[0m\u001b[0;34m)\u001b[0m\u001b[0;34m.\u001b[0m\u001b[0mT\u001b[0m\u001b[0;34m,\u001b[0m \u001b[0mans\u001b[0m\u001b[0;34m,\u001b[0m \u001b[0mFEATRUESNAME\u001b[0m\u001b[0;34m,\u001b[0m \u001b[0mtitle\u001b[0m \u001b[0;34m=\u001b[0m \u001b[0;34m\"GVFs\"\u001b[0m\u001b[0;34m,\u001b[0m \u001b[0my_label\u001b[0m \u001b[0;34m=\u001b[0m \u001b[0;34m\"GVFs Values\"\u001b[0m\u001b[0;34m,\u001b[0m \u001b[0mq_values\u001b[0m \u001b[0;34m=\u001b[0m \u001b[0mq_print_values\u001b[0m\u001b[0;34m,\u001b[0m \u001b[0mexp_count\u001b[0m \u001b[0;34m=\u001b[0m \u001b[0mself\u001b[0m\u001b[0;34m.\u001b[0m\u001b[0mexp_count\u001b[0m\u001b[0;34m)\u001b[0m\u001b[0;34m\u001b[0m\u001b[0;34m\u001b[0m\u001b[0m\n\u001b[0m\u001b[1;32m    360\u001b[0m             \u001b[0mplot_IG_MSX\u001b[0m\u001b[0;34m(\u001b[0m\u001b[0mnp\u001b[0m\u001b[0;34m.\u001b[0m\u001b[0marray\u001b[0m\u001b[0;34m(\u001b[0m\u001b[0mIGs\u001b[0m\u001b[0;34m)\u001b[0m\u001b[0;34m.\u001b[0m\u001b[0mT\u001b[0m\u001b[0;34m,\u001b[0m \u001b[0mnp\u001b[0m\u001b[0;34m.\u001b[0m\u001b[0marray\u001b[0m\u001b[0;34m(\u001b[0m\u001b[0mMSX_values\u001b[0m\u001b[0;34m)\u001b[0m\u001b[0;34m.\u001b[0m\u001b[0mT\u001b[0m\u001b[0;34m,\u001b[0m \u001b[0mans\u001b[0m\u001b[0;34m[\u001b[0m\u001b[0;36m1\u001b[0m\u001b[0;34m:\u001b[0m\u001b[0;34m]\u001b[0m\u001b[0;34m,\u001b[0m \u001b[0mFEATRUESNAME\u001b[0m\u001b[0;34m,\u001b[0m \u001b[0mtitle\u001b[0m \u001b[0;34m=\u001b[0m \u001b[0;34m\"IG & MSX\"\u001b[0m\u001b[0;34m,\u001b[0m \u001b[0my_label\u001b[0m \u001b[0;34m=\u001b[0m \u001b[0;34m\"IGX\"\u001b[0m\u001b[0;34m,\u001b[0m \u001b[0mIGX_action\u001b[0m \u001b[0;34m=\u001b[0m \u001b[0mans\u001b[0m\u001b[0;34m[\u001b[0m\u001b[0;36m0\u001b[0m\u001b[0;34m]\u001b[0m\u001b[0;34m,\u001b[0m \u001b[0mexp_count\u001b[0m \u001b[0;34m=\u001b[0m \u001b[0mself\u001b[0m\u001b[0;34m.\u001b[0m\u001b[0mexp_count\u001b[0m\u001b[0;34m)\u001b[0m\u001b[0;34m\u001b[0m\u001b[0;34m\u001b[0m\u001b[0m\n\u001b[1;32m    361\u001b[0m \u001b[0;34m\u001b[0m\u001b[0m\n",
      "\u001b[0;32m<ipython-input-8-71ced3f6fac0>\u001b[0m in \u001b[0;36mplot_action_group\u001b[0;34m(values, group, elements, title, y_label, q_values, IGX_action, exp_count)\u001b[0m\n\u001b[1;32m     83\u001b[0m             \u001b[0mplt\u001b[0m\u001b[0;34m.\u001b[0m\u001b[0mgca\u001b[0m\u001b[0;34m(\u001b[0m\u001b[0;34m)\u001b[0m\u001b[0;34m.\u001b[0m\u001b[0mtext\u001b[0m\u001b[0;34m(\u001b[0m\u001b[0mi\u001b[0m \u001b[0;34m+\u001b[0m \u001b[0mcenter_pos\u001b[0m\u001b[0;34m,\u001b[0m \u001b[0mtxt_pos\u001b[0m\u001b[0;34m,\u001b[0m \u001b[0;34m\"Q_v ≈ {}\"\u001b[0m\u001b[0;34m.\u001b[0m\u001b[0mformat\u001b[0m\u001b[0;34m(\u001b[0m\u001b[0mnp\u001b[0m\u001b[0;34m.\u001b[0m\u001b[0mround\u001b[0m\u001b[0;34m(\u001b[0m\u001b[0mq_values\u001b[0m\u001b[0;34m[\u001b[0m\u001b[0mi\u001b[0m\u001b[0;34m]\u001b[0m\u001b[0;34m,\u001b[0m \u001b[0;36m4\u001b[0m\u001b[0;34m)\u001b[0m\u001b[0;34m)\u001b[0m\u001b[0;34m,\u001b[0m \u001b[0mcolor\u001b[0m\u001b[0;34m=\u001b[0m\u001b[0;34m'black'\u001b[0m\u001b[0;34m,\u001b[0m \u001b[0mfontweight\u001b[0m\u001b[0;34m=\u001b[0m\u001b[0;34m'ultralight'\u001b[0m\u001b[0;34m,\u001b[0m \u001b[0mha\u001b[0m\u001b[0;34m=\u001b[0m\u001b[0;34m'center'\u001b[0m\u001b[0;34m)\u001b[0m\u001b[0;34m\u001b[0m\u001b[0;34m\u001b[0m\u001b[0m\n\u001b[1;32m     84\u001b[0m \u001b[0;34m\u001b[0m\u001b[0m\n\u001b[0;32m---> 85\u001b[0;31m     \u001b[0mplt\u001b[0m\u001b[0;34m.\u001b[0m\u001b[0msavefig\u001b[0m\u001b[0;34m(\u001b[0m\u001b[0;34m\"{}/{}-{}.png\"\u001b[0m\u001b[0;34m.\u001b[0m\u001b[0mformat\u001b[0m\u001b[0;34m(\u001b[0m\u001b[0mresult_floder_exp\u001b[0m\u001b[0;34m,\u001b[0m \u001b[0mtitle\u001b[0m\u001b[0;34m,\u001b[0m \u001b[0mexp_count\u001b[0m\u001b[0;34m)\u001b[0m\u001b[0;34m)\u001b[0m\u001b[0;34m\u001b[0m\u001b[0;34m\u001b[0m\u001b[0m\n\u001b[0m\u001b[1;32m     86\u001b[0m \u001b[0;34m\u001b[0m\u001b[0m\n\u001b[1;32m     87\u001b[0m \u001b[0;32mdef\u001b[0m \u001b[0mdisplay_frames_as_gif\u001b[0m\u001b[0;34m(\u001b[0m\u001b[0mframes\u001b[0m\u001b[0;34m,\u001b[0m \u001b[0mvideo_name\u001b[0m\u001b[0;34m)\u001b[0m\u001b[0;34m:\u001b[0m\u001b[0;34m\u001b[0m\u001b[0;34m\u001b[0m\u001b[0m\n",
      "\u001b[0;32m~/.local/lib/python3.6/site-packages/matplotlib/pyplot.py\u001b[0m in \u001b[0;36msavefig\u001b[0;34m(*args, **kwargs)\u001b[0m\n\u001b[1;32m    722\u001b[0m     \u001b[0mfig\u001b[0m \u001b[0;34m=\u001b[0m \u001b[0mgcf\u001b[0m\u001b[0;34m(\u001b[0m\u001b[0;34m)\u001b[0m\u001b[0;34m\u001b[0m\u001b[0;34m\u001b[0m\u001b[0m\n\u001b[1;32m    723\u001b[0m     \u001b[0mres\u001b[0m \u001b[0;34m=\u001b[0m \u001b[0mfig\u001b[0m\u001b[0;34m.\u001b[0m\u001b[0msavefig\u001b[0m\u001b[0;34m(\u001b[0m\u001b[0;34m*\u001b[0m\u001b[0margs\u001b[0m\u001b[0;34m,\u001b[0m \u001b[0;34m**\u001b[0m\u001b[0mkwargs\u001b[0m\u001b[0;34m)\u001b[0m\u001b[0;34m\u001b[0m\u001b[0;34m\u001b[0m\u001b[0m\n\u001b[0;32m--> 724\u001b[0;31m     \u001b[0mfig\u001b[0m\u001b[0;34m.\u001b[0m\u001b[0mcanvas\u001b[0m\u001b[0;34m.\u001b[0m\u001b[0mdraw_idle\u001b[0m\u001b[0;34m(\u001b[0m\u001b[0;34m)\u001b[0m   \u001b[0;31m# need this if 'transparent=True' to reset colors\u001b[0m\u001b[0;34m\u001b[0m\u001b[0;34m\u001b[0m\u001b[0m\n\u001b[0m\u001b[1;32m    725\u001b[0m     \u001b[0;32mreturn\u001b[0m \u001b[0mres\u001b[0m\u001b[0;34m\u001b[0m\u001b[0;34m\u001b[0m\u001b[0m\n\u001b[1;32m    726\u001b[0m \u001b[0;34m\u001b[0m\u001b[0m\n",
      "\u001b[0;32m~/.local/lib/python3.6/site-packages/matplotlib/backend_bases.py\u001b[0m in \u001b[0;36mdraw_idle\u001b[0;34m(self, *args, **kwargs)\u001b[0m\n\u001b[1;32m   1929\u001b[0m         \u001b[0;32mif\u001b[0m \u001b[0;32mnot\u001b[0m \u001b[0mself\u001b[0m\u001b[0;34m.\u001b[0m\u001b[0m_is_idle_drawing\u001b[0m\u001b[0;34m:\u001b[0m\u001b[0;34m\u001b[0m\u001b[0;34m\u001b[0m\u001b[0m\n\u001b[1;32m   1930\u001b[0m             \u001b[0;32mwith\u001b[0m \u001b[0mself\u001b[0m\u001b[0;34m.\u001b[0m\u001b[0m_idle_draw_cntx\u001b[0m\u001b[0;34m(\u001b[0m\u001b[0;34m)\u001b[0m\u001b[0;34m:\u001b[0m\u001b[0;34m\u001b[0m\u001b[0;34m\u001b[0m\u001b[0m\n\u001b[0;32m-> 1931\u001b[0;31m                 \u001b[0mself\u001b[0m\u001b[0;34m.\u001b[0m\u001b[0mdraw\u001b[0m\u001b[0;34m(\u001b[0m\u001b[0;34m*\u001b[0m\u001b[0margs\u001b[0m\u001b[0;34m,\u001b[0m \u001b[0;34m**\u001b[0m\u001b[0mkwargs\u001b[0m\u001b[0;34m)\u001b[0m\u001b[0;34m\u001b[0m\u001b[0;34m\u001b[0m\u001b[0m\n\u001b[0m\u001b[1;32m   1932\u001b[0m \u001b[0;34m\u001b[0m\u001b[0m\n\u001b[1;32m   1933\u001b[0m     \u001b[0;34m@\u001b[0m\u001b[0mcbook\u001b[0m\u001b[0;34m.\u001b[0m\u001b[0mdeprecated\u001b[0m\u001b[0;34m(\u001b[0m\u001b[0;34m\"3.2\"\u001b[0m\u001b[0;34m)\u001b[0m\u001b[0;34m\u001b[0m\u001b[0;34m\u001b[0m\u001b[0m\n",
      "\u001b[0;32m~/.local/lib/python3.6/site-packages/matplotlib/backends/backend_agg.py\u001b[0m in \u001b[0;36mdraw\u001b[0;34m(self)\u001b[0m\n\u001b[1;32m    391\u001b[0m              (self.toolbar._wait_cursor_for_draw_cm() if self.toolbar\n\u001b[1;32m    392\u001b[0m               else nullcontext()):\n\u001b[0;32m--> 393\u001b[0;31m             \u001b[0mself\u001b[0m\u001b[0;34m.\u001b[0m\u001b[0mfigure\u001b[0m\u001b[0;34m.\u001b[0m\u001b[0mdraw\u001b[0m\u001b[0;34m(\u001b[0m\u001b[0mself\u001b[0m\u001b[0;34m.\u001b[0m\u001b[0mrenderer\u001b[0m\u001b[0;34m)\u001b[0m\u001b[0;34m\u001b[0m\u001b[0;34m\u001b[0m\u001b[0m\n\u001b[0m\u001b[1;32m    394\u001b[0m             \u001b[0;31m# A GUI class may be need to update a window using this draw, so\u001b[0m\u001b[0;34m\u001b[0m\u001b[0;34m\u001b[0m\u001b[0;34m\u001b[0m\u001b[0m\n\u001b[1;32m    395\u001b[0m             \u001b[0;31m# don't forget to call the superclass.\u001b[0m\u001b[0;34m\u001b[0m\u001b[0;34m\u001b[0m\u001b[0;34m\u001b[0m\u001b[0m\n",
      "\u001b[0;32m~/.local/lib/python3.6/site-packages/matplotlib/artist.py\u001b[0m in \u001b[0;36mdraw_wrapper\u001b[0;34m(artist, renderer, *args, **kwargs)\u001b[0m\n\u001b[1;32m     36\u001b[0m                 \u001b[0mrenderer\u001b[0m\u001b[0;34m.\u001b[0m\u001b[0mstart_filter\u001b[0m\u001b[0;34m(\u001b[0m\u001b[0;34m)\u001b[0m\u001b[0;34m\u001b[0m\u001b[0;34m\u001b[0m\u001b[0m\n\u001b[1;32m     37\u001b[0m \u001b[0;34m\u001b[0m\u001b[0m\n\u001b[0;32m---> 38\u001b[0;31m             \u001b[0;32mreturn\u001b[0m \u001b[0mdraw\u001b[0m\u001b[0;34m(\u001b[0m\u001b[0martist\u001b[0m\u001b[0;34m,\u001b[0m \u001b[0mrenderer\u001b[0m\u001b[0;34m,\u001b[0m \u001b[0;34m*\u001b[0m\u001b[0margs\u001b[0m\u001b[0;34m,\u001b[0m \u001b[0;34m**\u001b[0m\u001b[0mkwargs\u001b[0m\u001b[0;34m)\u001b[0m\u001b[0;34m\u001b[0m\u001b[0;34m\u001b[0m\u001b[0m\n\u001b[0m\u001b[1;32m     39\u001b[0m         \u001b[0;32mfinally\u001b[0m\u001b[0;34m:\u001b[0m\u001b[0;34m\u001b[0m\u001b[0;34m\u001b[0m\u001b[0m\n\u001b[1;32m     40\u001b[0m             \u001b[0;32mif\u001b[0m \u001b[0martist\u001b[0m\u001b[0;34m.\u001b[0m\u001b[0mget_agg_filter\u001b[0m\u001b[0;34m(\u001b[0m\u001b[0;34m)\u001b[0m \u001b[0;32mis\u001b[0m \u001b[0;32mnot\u001b[0m \u001b[0;32mNone\u001b[0m\u001b[0;34m:\u001b[0m\u001b[0;34m\u001b[0m\u001b[0;34m\u001b[0m\u001b[0m\n",
      "\u001b[0;32m~/.local/lib/python3.6/site-packages/matplotlib/figure.py\u001b[0m in \u001b[0;36mdraw\u001b[0;34m(self, renderer)\u001b[0m\n\u001b[1;32m   1734\u001b[0m             \u001b[0mself\u001b[0m\u001b[0;34m.\u001b[0m\u001b[0mpatch\u001b[0m\u001b[0;34m.\u001b[0m\u001b[0mdraw\u001b[0m\u001b[0;34m(\u001b[0m\u001b[0mrenderer\u001b[0m\u001b[0;34m)\u001b[0m\u001b[0;34m\u001b[0m\u001b[0;34m\u001b[0m\u001b[0m\n\u001b[1;32m   1735\u001b[0m             mimage._draw_list_compositing_images(\n\u001b[0;32m-> 1736\u001b[0;31m                 renderer, self, artists, self.suppressComposite)\n\u001b[0m\u001b[1;32m   1737\u001b[0m \u001b[0;34m\u001b[0m\u001b[0m\n\u001b[1;32m   1738\u001b[0m             \u001b[0mrenderer\u001b[0m\u001b[0;34m.\u001b[0m\u001b[0mclose_group\u001b[0m\u001b[0;34m(\u001b[0m\u001b[0;34m'figure'\u001b[0m\u001b[0;34m)\u001b[0m\u001b[0;34m\u001b[0m\u001b[0;34m\u001b[0m\u001b[0m\n",
      "\u001b[0;32m~/.local/lib/python3.6/site-packages/matplotlib/image.py\u001b[0m in \u001b[0;36m_draw_list_compositing_images\u001b[0;34m(renderer, parent, artists, suppress_composite)\u001b[0m\n\u001b[1;32m    135\u001b[0m     \u001b[0;32mif\u001b[0m \u001b[0mnot_composite\u001b[0m \u001b[0;32mor\u001b[0m \u001b[0;32mnot\u001b[0m \u001b[0mhas_images\u001b[0m\u001b[0;34m:\u001b[0m\u001b[0;34m\u001b[0m\u001b[0;34m\u001b[0m\u001b[0m\n\u001b[1;32m    136\u001b[0m         \u001b[0;32mfor\u001b[0m \u001b[0ma\u001b[0m \u001b[0;32min\u001b[0m \u001b[0martists\u001b[0m\u001b[0;34m:\u001b[0m\u001b[0;34m\u001b[0m\u001b[0;34m\u001b[0m\u001b[0m\n\u001b[0;32m--> 137\u001b[0;31m             \u001b[0ma\u001b[0m\u001b[0;34m.\u001b[0m\u001b[0mdraw\u001b[0m\u001b[0;34m(\u001b[0m\u001b[0mrenderer\u001b[0m\u001b[0;34m)\u001b[0m\u001b[0;34m\u001b[0m\u001b[0;34m\u001b[0m\u001b[0m\n\u001b[0m\u001b[1;32m    138\u001b[0m     \u001b[0;32melse\u001b[0m\u001b[0;34m:\u001b[0m\u001b[0;34m\u001b[0m\u001b[0;34m\u001b[0m\u001b[0m\n\u001b[1;32m    139\u001b[0m         \u001b[0;31m# Composite any adjacent images together\u001b[0m\u001b[0;34m\u001b[0m\u001b[0;34m\u001b[0m\u001b[0;34m\u001b[0m\u001b[0m\n",
      "\u001b[0;32m~/.local/lib/python3.6/site-packages/matplotlib/artist.py\u001b[0m in \u001b[0;36mdraw_wrapper\u001b[0;34m(artist, renderer, *args, **kwargs)\u001b[0m\n\u001b[1;32m     36\u001b[0m                 \u001b[0mrenderer\u001b[0m\u001b[0;34m.\u001b[0m\u001b[0mstart_filter\u001b[0m\u001b[0;34m(\u001b[0m\u001b[0;34m)\u001b[0m\u001b[0;34m\u001b[0m\u001b[0;34m\u001b[0m\u001b[0m\n\u001b[1;32m     37\u001b[0m \u001b[0;34m\u001b[0m\u001b[0m\n\u001b[0;32m---> 38\u001b[0;31m             \u001b[0;32mreturn\u001b[0m \u001b[0mdraw\u001b[0m\u001b[0;34m(\u001b[0m\u001b[0martist\u001b[0m\u001b[0;34m,\u001b[0m \u001b[0mrenderer\u001b[0m\u001b[0;34m,\u001b[0m \u001b[0;34m*\u001b[0m\u001b[0margs\u001b[0m\u001b[0;34m,\u001b[0m \u001b[0;34m**\u001b[0m\u001b[0mkwargs\u001b[0m\u001b[0;34m)\u001b[0m\u001b[0;34m\u001b[0m\u001b[0;34m\u001b[0m\u001b[0m\n\u001b[0m\u001b[1;32m     39\u001b[0m         \u001b[0;32mfinally\u001b[0m\u001b[0;34m:\u001b[0m\u001b[0;34m\u001b[0m\u001b[0;34m\u001b[0m\u001b[0m\n\u001b[1;32m     40\u001b[0m             \u001b[0;32mif\u001b[0m \u001b[0martist\u001b[0m\u001b[0;34m.\u001b[0m\u001b[0mget_agg_filter\u001b[0m\u001b[0;34m(\u001b[0m\u001b[0;34m)\u001b[0m \u001b[0;32mis\u001b[0m \u001b[0;32mnot\u001b[0m \u001b[0;32mNone\u001b[0m\u001b[0;34m:\u001b[0m\u001b[0;34m\u001b[0m\u001b[0;34m\u001b[0m\u001b[0m\n",
      "\u001b[0;32m~/.local/lib/python3.6/site-packages/matplotlib/axes/_base.py\u001b[0m in \u001b[0;36mdraw\u001b[0;34m(self, renderer, inframe)\u001b[0m\n\u001b[1;32m   2628\u001b[0m             \u001b[0mrenderer\u001b[0m\u001b[0;34m.\u001b[0m\u001b[0mstop_rasterizing\u001b[0m\u001b[0;34m(\u001b[0m\u001b[0;34m)\u001b[0m\u001b[0;34m\u001b[0m\u001b[0;34m\u001b[0m\u001b[0m\n\u001b[1;32m   2629\u001b[0m \u001b[0;34m\u001b[0m\u001b[0m\n\u001b[0;32m-> 2630\u001b[0;31m         \u001b[0mmimage\u001b[0m\u001b[0;34m.\u001b[0m\u001b[0m_draw_list_compositing_images\u001b[0m\u001b[0;34m(\u001b[0m\u001b[0mrenderer\u001b[0m\u001b[0;34m,\u001b[0m \u001b[0mself\u001b[0m\u001b[0;34m,\u001b[0m \u001b[0martists\u001b[0m\u001b[0;34m)\u001b[0m\u001b[0;34m\u001b[0m\u001b[0;34m\u001b[0m\u001b[0m\n\u001b[0m\u001b[1;32m   2631\u001b[0m \u001b[0;34m\u001b[0m\u001b[0m\n\u001b[1;32m   2632\u001b[0m         \u001b[0mrenderer\u001b[0m\u001b[0;34m.\u001b[0m\u001b[0mclose_group\u001b[0m\u001b[0;34m(\u001b[0m\u001b[0;34m'axes'\u001b[0m\u001b[0;34m)\u001b[0m\u001b[0;34m\u001b[0m\u001b[0;34m\u001b[0m\u001b[0m\n",
      "\u001b[0;32m~/.local/lib/python3.6/site-packages/matplotlib/image.py\u001b[0m in \u001b[0;36m_draw_list_compositing_images\u001b[0;34m(renderer, parent, artists, suppress_composite)\u001b[0m\n\u001b[1;32m    135\u001b[0m     \u001b[0;32mif\u001b[0m \u001b[0mnot_composite\u001b[0m \u001b[0;32mor\u001b[0m \u001b[0;32mnot\u001b[0m \u001b[0mhas_images\u001b[0m\u001b[0;34m:\u001b[0m\u001b[0;34m\u001b[0m\u001b[0;34m\u001b[0m\u001b[0m\n\u001b[1;32m    136\u001b[0m         \u001b[0;32mfor\u001b[0m \u001b[0ma\u001b[0m \u001b[0;32min\u001b[0m \u001b[0martists\u001b[0m\u001b[0;34m:\u001b[0m\u001b[0;34m\u001b[0m\u001b[0;34m\u001b[0m\u001b[0m\n\u001b[0;32m--> 137\u001b[0;31m             \u001b[0ma\u001b[0m\u001b[0;34m.\u001b[0m\u001b[0mdraw\u001b[0m\u001b[0;34m(\u001b[0m\u001b[0mrenderer\u001b[0m\u001b[0;34m)\u001b[0m\u001b[0;34m\u001b[0m\u001b[0;34m\u001b[0m\u001b[0m\n\u001b[0m\u001b[1;32m    138\u001b[0m     \u001b[0;32melse\u001b[0m\u001b[0;34m:\u001b[0m\u001b[0;34m\u001b[0m\u001b[0;34m\u001b[0m\u001b[0m\n\u001b[1;32m    139\u001b[0m         \u001b[0;31m# Composite any adjacent images together\u001b[0m\u001b[0;34m\u001b[0m\u001b[0;34m\u001b[0m\u001b[0;34m\u001b[0m\u001b[0m\n",
      "\u001b[0;32m~/.local/lib/python3.6/site-packages/matplotlib/artist.py\u001b[0m in \u001b[0;36mdraw_wrapper\u001b[0;34m(artist, renderer, *args, **kwargs)\u001b[0m\n\u001b[1;32m     36\u001b[0m                 \u001b[0mrenderer\u001b[0m\u001b[0;34m.\u001b[0m\u001b[0mstart_filter\u001b[0m\u001b[0;34m(\u001b[0m\u001b[0;34m)\u001b[0m\u001b[0;34m\u001b[0m\u001b[0;34m\u001b[0m\u001b[0m\n\u001b[1;32m     37\u001b[0m \u001b[0;34m\u001b[0m\u001b[0m\n\u001b[0;32m---> 38\u001b[0;31m             \u001b[0;32mreturn\u001b[0m \u001b[0mdraw\u001b[0m\u001b[0;34m(\u001b[0m\u001b[0martist\u001b[0m\u001b[0;34m,\u001b[0m \u001b[0mrenderer\u001b[0m\u001b[0;34m,\u001b[0m \u001b[0;34m*\u001b[0m\u001b[0margs\u001b[0m\u001b[0;34m,\u001b[0m \u001b[0;34m**\u001b[0m\u001b[0mkwargs\u001b[0m\u001b[0;34m)\u001b[0m\u001b[0;34m\u001b[0m\u001b[0;34m\u001b[0m\u001b[0m\n\u001b[0m\u001b[1;32m     39\u001b[0m         \u001b[0;32mfinally\u001b[0m\u001b[0;34m:\u001b[0m\u001b[0;34m\u001b[0m\u001b[0;34m\u001b[0m\u001b[0m\n\u001b[1;32m     40\u001b[0m             \u001b[0;32mif\u001b[0m \u001b[0martist\u001b[0m\u001b[0;34m.\u001b[0m\u001b[0mget_agg_filter\u001b[0m\u001b[0;34m(\u001b[0m\u001b[0;34m)\u001b[0m \u001b[0;32mis\u001b[0m \u001b[0;32mnot\u001b[0m \u001b[0;32mNone\u001b[0m\u001b[0;34m:\u001b[0m\u001b[0;34m\u001b[0m\u001b[0;34m\u001b[0m\u001b[0m\n",
      "\u001b[0;32m~/.local/lib/python3.6/site-packages/matplotlib/axis.py\u001b[0m in \u001b[0;36mdraw\u001b[0;34m(self, renderer, *args, **kwargs)\u001b[0m\n\u001b[1;32m   1230\u001b[0m \u001b[0;34m\u001b[0m\u001b[0m\n\u001b[1;32m   1231\u001b[0m         \u001b[0;32mfor\u001b[0m \u001b[0mtick\u001b[0m \u001b[0;32min\u001b[0m \u001b[0mticks_to_draw\u001b[0m\u001b[0;34m:\u001b[0m\u001b[0;34m\u001b[0m\u001b[0;34m\u001b[0m\u001b[0m\n\u001b[0;32m-> 1232\u001b[0;31m             \u001b[0mtick\u001b[0m\u001b[0;34m.\u001b[0m\u001b[0mdraw\u001b[0m\u001b[0;34m(\u001b[0m\u001b[0mrenderer\u001b[0m\u001b[0;34m)\u001b[0m\u001b[0;34m\u001b[0m\u001b[0;34m\u001b[0m\u001b[0m\n\u001b[0m\u001b[1;32m   1233\u001b[0m \u001b[0;34m\u001b[0m\u001b[0m\n\u001b[1;32m   1234\u001b[0m         \u001b[0;31m# scale up the axis label box to also find the neighbors, not\u001b[0m\u001b[0;34m\u001b[0m\u001b[0;34m\u001b[0m\u001b[0;34m\u001b[0m\u001b[0m\n",
      "\u001b[0;32m~/.local/lib/python3.6/site-packages/matplotlib/artist.py\u001b[0m in \u001b[0;36mdraw_wrapper\u001b[0;34m(artist, renderer, *args, **kwargs)\u001b[0m\n\u001b[1;32m     36\u001b[0m                 \u001b[0mrenderer\u001b[0m\u001b[0;34m.\u001b[0m\u001b[0mstart_filter\u001b[0m\u001b[0;34m(\u001b[0m\u001b[0;34m)\u001b[0m\u001b[0;34m\u001b[0m\u001b[0;34m\u001b[0m\u001b[0m\n\u001b[1;32m     37\u001b[0m \u001b[0;34m\u001b[0m\u001b[0m\n\u001b[0;32m---> 38\u001b[0;31m             \u001b[0;32mreturn\u001b[0m \u001b[0mdraw\u001b[0m\u001b[0;34m(\u001b[0m\u001b[0martist\u001b[0m\u001b[0;34m,\u001b[0m \u001b[0mrenderer\u001b[0m\u001b[0;34m,\u001b[0m \u001b[0;34m*\u001b[0m\u001b[0margs\u001b[0m\u001b[0;34m,\u001b[0m \u001b[0;34m**\u001b[0m\u001b[0mkwargs\u001b[0m\u001b[0;34m)\u001b[0m\u001b[0;34m\u001b[0m\u001b[0;34m\u001b[0m\u001b[0m\n\u001b[0m\u001b[1;32m     39\u001b[0m         \u001b[0;32mfinally\u001b[0m\u001b[0;34m:\u001b[0m\u001b[0;34m\u001b[0m\u001b[0;34m\u001b[0m\u001b[0m\n\u001b[1;32m     40\u001b[0m             \u001b[0;32mif\u001b[0m \u001b[0martist\u001b[0m\u001b[0;34m.\u001b[0m\u001b[0mget_agg_filter\u001b[0m\u001b[0;34m(\u001b[0m\u001b[0;34m)\u001b[0m \u001b[0;32mis\u001b[0m \u001b[0;32mnot\u001b[0m \u001b[0;32mNone\u001b[0m\u001b[0;34m:\u001b[0m\u001b[0;34m\u001b[0m\u001b[0;34m\u001b[0m\u001b[0m\n",
      "\u001b[0;32m~/.local/lib/python3.6/site-packages/matplotlib/axis.py\u001b[0m in \u001b[0;36mdraw\u001b[0;34m(self, renderer)\u001b[0m\n\u001b[1;32m    295\u001b[0m         for artist in [self.gridline, self.tick1line, self.tick2line,\n\u001b[1;32m    296\u001b[0m                        self.label1, self.label2]:\n\u001b[0;32m--> 297\u001b[0;31m             \u001b[0martist\u001b[0m\u001b[0;34m.\u001b[0m\u001b[0mdraw\u001b[0m\u001b[0;34m(\u001b[0m\u001b[0mrenderer\u001b[0m\u001b[0;34m)\u001b[0m\u001b[0;34m\u001b[0m\u001b[0;34m\u001b[0m\u001b[0m\n\u001b[0m\u001b[1;32m    298\u001b[0m         \u001b[0mrenderer\u001b[0m\u001b[0;34m.\u001b[0m\u001b[0mclose_group\u001b[0m\u001b[0;34m(\u001b[0m\u001b[0mself\u001b[0m\u001b[0;34m.\u001b[0m\u001b[0m__name__\u001b[0m\u001b[0;34m)\u001b[0m\u001b[0;34m\u001b[0m\u001b[0;34m\u001b[0m\u001b[0m\n\u001b[1;32m    299\u001b[0m         \u001b[0mself\u001b[0m\u001b[0;34m.\u001b[0m\u001b[0mstale\u001b[0m \u001b[0;34m=\u001b[0m \u001b[0;32mFalse\u001b[0m\u001b[0;34m\u001b[0m\u001b[0;34m\u001b[0m\u001b[0m\n",
      "\u001b[0;32m~/.local/lib/python3.6/site-packages/matplotlib/artist.py\u001b[0m in \u001b[0;36mdraw_wrapper\u001b[0;34m(artist, renderer, *args, **kwargs)\u001b[0m\n\u001b[1;32m     36\u001b[0m                 \u001b[0mrenderer\u001b[0m\u001b[0;34m.\u001b[0m\u001b[0mstart_filter\u001b[0m\u001b[0;34m(\u001b[0m\u001b[0;34m)\u001b[0m\u001b[0;34m\u001b[0m\u001b[0;34m\u001b[0m\u001b[0m\n\u001b[1;32m     37\u001b[0m \u001b[0;34m\u001b[0m\u001b[0m\n\u001b[0;32m---> 38\u001b[0;31m             \u001b[0;32mreturn\u001b[0m \u001b[0mdraw\u001b[0m\u001b[0;34m(\u001b[0m\u001b[0martist\u001b[0m\u001b[0;34m,\u001b[0m \u001b[0mrenderer\u001b[0m\u001b[0;34m,\u001b[0m \u001b[0;34m*\u001b[0m\u001b[0margs\u001b[0m\u001b[0;34m,\u001b[0m \u001b[0;34m**\u001b[0m\u001b[0mkwargs\u001b[0m\u001b[0;34m)\u001b[0m\u001b[0;34m\u001b[0m\u001b[0;34m\u001b[0m\u001b[0m\n\u001b[0m\u001b[1;32m     39\u001b[0m         \u001b[0;32mfinally\u001b[0m\u001b[0;34m:\u001b[0m\u001b[0;34m\u001b[0m\u001b[0;34m\u001b[0m\u001b[0m\n\u001b[1;32m     40\u001b[0m             \u001b[0;32mif\u001b[0m \u001b[0martist\u001b[0m\u001b[0;34m.\u001b[0m\u001b[0mget_agg_filter\u001b[0m\u001b[0;34m(\u001b[0m\u001b[0;34m)\u001b[0m \u001b[0;32mis\u001b[0m \u001b[0;32mnot\u001b[0m \u001b[0;32mNone\u001b[0m\u001b[0;34m:\u001b[0m\u001b[0;34m\u001b[0m\u001b[0;34m\u001b[0m\u001b[0m\n",
      "\u001b[0;32m~/.local/lib/python3.6/site-packages/matplotlib/text.py\u001b[0m in \u001b[0;36mdraw\u001b[0;34m(self, renderer)\u001b[0m\n\u001b[1;32m    731\u001b[0m                     textrenderer.draw_text(gc, x, y, clean_line,\n\u001b[1;32m    732\u001b[0m                                            \u001b[0mtextobj\u001b[0m\u001b[0;34m.\u001b[0m\u001b[0m_fontproperties\u001b[0m\u001b[0;34m,\u001b[0m \u001b[0mangle\u001b[0m\u001b[0;34m,\u001b[0m\u001b[0;34m\u001b[0m\u001b[0;34m\u001b[0m\u001b[0m\n\u001b[0;32m--> 733\u001b[0;31m                                            ismath=ismath, mtext=mtext)\n\u001b[0m\u001b[1;32m    734\u001b[0m \u001b[0;34m\u001b[0m\u001b[0m\n\u001b[1;32m    735\u001b[0m         \u001b[0mgc\u001b[0m\u001b[0;34m.\u001b[0m\u001b[0mrestore\u001b[0m\u001b[0;34m(\u001b[0m\u001b[0;34m)\u001b[0m\u001b[0;34m\u001b[0m\u001b[0;34m\u001b[0m\u001b[0m\n",
      "\u001b[0;32m~/.local/lib/python3.6/site-packages/matplotlib/backends/backend_agg.py\u001b[0m in \u001b[0;36mdraw_text\u001b[0;34m(self, gc, x, y, s, prop, angle, ismath, mtext)\u001b[0m\n\u001b[1;32m    190\u001b[0m         \u001b[0mxd\u001b[0m \u001b[0;34m=\u001b[0m \u001b[0md\u001b[0m \u001b[0;34m*\u001b[0m \u001b[0msin\u001b[0m\u001b[0;34m(\u001b[0m\u001b[0mradians\u001b[0m\u001b[0;34m(\u001b[0m\u001b[0mangle\u001b[0m\u001b[0;34m)\u001b[0m\u001b[0;34m)\u001b[0m\u001b[0;34m\u001b[0m\u001b[0;34m\u001b[0m\u001b[0m\n\u001b[1;32m    191\u001b[0m         \u001b[0myd\u001b[0m \u001b[0;34m=\u001b[0m \u001b[0md\u001b[0m \u001b[0;34m*\u001b[0m \u001b[0mcos\u001b[0m\u001b[0;34m(\u001b[0m\u001b[0mradians\u001b[0m\u001b[0;34m(\u001b[0m\u001b[0mangle\u001b[0m\u001b[0;34m)\u001b[0m\u001b[0;34m)\u001b[0m\u001b[0;34m\u001b[0m\u001b[0;34m\u001b[0m\u001b[0m\n\u001b[0;32m--> 192\u001b[0;31m         \u001b[0mx\u001b[0m \u001b[0;34m=\u001b[0m \u001b[0mround\u001b[0m\u001b[0;34m(\u001b[0m\u001b[0mx\u001b[0m \u001b[0;34m+\u001b[0m \u001b[0mxo\u001b[0m \u001b[0;34m+\u001b[0m \u001b[0mxd\u001b[0m\u001b[0;34m)\u001b[0m\u001b[0;34m\u001b[0m\u001b[0;34m\u001b[0m\u001b[0m\n\u001b[0m\u001b[1;32m    193\u001b[0m         \u001b[0my\u001b[0m \u001b[0;34m=\u001b[0m \u001b[0mround\u001b[0m\u001b[0;34m(\u001b[0m\u001b[0my\u001b[0m \u001b[0;34m+\u001b[0m \u001b[0myo\u001b[0m \u001b[0;34m+\u001b[0m \u001b[0myd\u001b[0m\u001b[0;34m)\u001b[0m\u001b[0;34m\u001b[0m\u001b[0;34m\u001b[0m\u001b[0m\n\u001b[1;32m    194\u001b[0m         \u001b[0mself\u001b[0m\u001b[0;34m.\u001b[0m\u001b[0m_renderer\u001b[0m\u001b[0;34m.\u001b[0m\u001b[0mdraw_text_image\u001b[0m\u001b[0;34m(\u001b[0m\u001b[0mfont\u001b[0m\u001b[0;34m,\u001b[0m \u001b[0mx\u001b[0m\u001b[0;34m,\u001b[0m \u001b[0my\u001b[0m \u001b[0;34m+\u001b[0m \u001b[0;36m1\u001b[0m\u001b[0;34m,\u001b[0m \u001b[0mangle\u001b[0m\u001b[0;34m,\u001b[0m \u001b[0mgc\u001b[0m\u001b[0;34m)\u001b[0m\u001b[0;34m\u001b[0m\u001b[0;34m\u001b[0m\u001b[0m\n",
      "\u001b[0;31mKeyboardInterrupt\u001b[0m: "
     ]
    },
    {
     "data": {
      "text/plain": [
       "<Figure size 432x288 with 0 Axes>"
      ]
     },
     "metadata": {},
     "output_type": "display_data"
    },
    {
     "data": {
      "text/plain": [
       "<Figure size 432x288 with 0 Axes>"
      ]
     },
     "metadata": {},
     "output_type": "display_data"
    },
    {
     "data": {
      "text/plain": [
       "<Figure size 432x288 with 0 Axes>"
      ]
     },
     "metadata": {},
     "output_type": "display_data"
    },
    {
     "data": {
      "text/plain": [
       "<Figure size 432x288 with 0 Axes>"
      ]
     },
     "metadata": {},
     "output_type": "display_data"
    },
    {
     "data": {
      "text/plain": [
       "<Figure size 432x288 with 0 Axes>"
      ]
     },
     "metadata": {},
     "output_type": "display_data"
    },
    {
     "data": {
      "text/plain": [
       "<Figure size 432x288 with 0 Axes>"
      ]
     },
     "metadata": {},
     "output_type": "display_data"
    },
    {
     "data": {
      "text/plain": [
       "<Figure size 432x288 with 0 Axes>"
      ]
     },
     "metadata": {},
     "output_type": "display_data"
    },
    {
     "data": {
      "text/plain": [
       "<Figure size 432x288 with 0 Axes>"
      ]
     },
     "metadata": {},
     "output_type": "display_data"
    },
    {
     "data": {
      "text/plain": [
       "<Figure size 432x288 with 0 Axes>"
      ]
     },
     "metadata": {},
     "output_type": "display_data"
    },
    {
     "data": {
      "image/png": "[encoded data removed]",
      "text/plain": [
       "<Figure size 432x288 with 1 Axes>"
      ]
     },
     "metadata": {
      "image/png": {
       "height": 277,
       "width": 379
      },
      "needs_background": "light"
     },
     "output_type": "display_data"
    }
   ],
   "source": [
    "best_ckpt_path = \"{}/best_check_point\".format(result_floder)\n",
    "agent = ESP_agent(env, hyperparams_Lunarlander)\n",
    "agent.load_model(path = best_ckpt_path)\n",
    "agent.evaluate_combination_action_large_diff(example_num = 5, epsilon = 0.1)"
   ]
  },
  {
   "cell_type": "code",
   "execution_count": 12,
   "metadata": {},
   "outputs": [
    {
     "name": "stderr",
     "output_type": "stream",
     "text": [
      "Evaluating:   0%|          | 0/100 [00:00<?, ?it/s]"
     ]
    },
    {
     "name": "stdout",
     "output_type": "stream",
     "text": [
      "Using GPU\n",
      "Using GPU\n"
     ]
    },
    {
     "name": "stderr",
     "output_type": "stream",
     "text": [
      "Evaluating: 100%|██████████| 100/100 [00:25<00:00,  4.00it/s]"
     ]
    },
    {
     "name": "stdout",
     "output_type": "stream",
     "text": [
      "avg score: 240.0433012723144\n",
      "avg GVF loss: 0.027799279659520833\n",
      "save\n"
     ]
    },
    {
     "name": "stderr",
     "output_type": "stream",
     "text": [
      "\n"
     ]
    },
    {
     "data": {
      "text/plain": [
       "240.0433012723144"
      ]
     },
     "execution_count": 12,
     "metadata": {},
     "output_type": "execute_result"
    }
   ],
   "source": [
    "best_ckpt_path = \"{}/best_check_point\".format(result_floder)\n",
    "agent = ESP_agent(env, hyperparams_Lunarlander)\n",
    "agent.load_model(path = best_ckpt_path)\n",
    "agent.evaluate(0)"
   ]
  },
  {
   "cell_type": "code",
   "execution_count": 21,
   "metadata": {},
   "outputs": [
    {
     "name": "stdout",
     "output_type": "stream",
     "text": [
      "[NbConvertApp] Converting notebook LL_ESP.ipynb to script\n",
      "[NbConvertApp] Writing 29299 bytes to LL_ESP.py\n"
     ]
    }
   ],
   "source": [
    "!jupyter nbconvert --to script LL_ESP.ipynb"
   ]
  },
  {
   "cell_type": "code",
   "execution_count": null,
   "metadata": {},
   "outputs": [],
   "source": []
  }
 ],
 "metadata": {
  "kernelspec": {
   "display_name": "Python 3",
   "language": "python",
   "name": "python3"
  },
  "language_info": {
   "codemirror_mode": {
    "name": "ipython",
    "version": 3
   },
   "file_extension": ".py",
   "mimetype": "text/x-python",
   "name": "python",
   "nbconvert_exporter": "python",
   "pygments_lexer": "ipython3",
   "version": "3.6.8"
  }
 },
 "nbformat": 4,
 "nbformat_minor": 4
}
